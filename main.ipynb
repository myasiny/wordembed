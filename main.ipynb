{
 "cells": [
  {
   "cell_type": "markdown",
   "metadata": {},
   "source": [
    "# Word Embedding"
   ]
  },
  {
   "cell_type": "markdown",
   "metadata": {},
   "source": [
    "It is a word embedding project which analyses technology news to create a network by learning from the text content.\n",
    "\n",
    "The dataset used in this project is from https://hakan.io/makine-ogrenmesi-turkce-haber-metinleri-veri-seti/"
   ]
  },
  {
   "cell_type": "markdown",
   "metadata": {},
   "source": [
    "### Data"
   ]
  },
  {
   "cell_type": "code",
   "execution_count": 68,
   "metadata": {},
   "outputs": [],
   "source": [
    "stopwords = [i.strip() for i in open(\"data/stopwords.txt\", \"r\").readlines()]"
   ]
  },
  {
   "cell_type": "code",
   "execution_count": 69,
   "metadata": {},
   "outputs": [
    {
     "data": {
      "text/html": [
       "<div>\n",
       "<style scoped>\n",
       "    .dataframe tbody tr th:only-of-type {\n",
       "        vertical-align: middle;\n",
       "    }\n",
       "\n",
       "    .dataframe tbody tr th {\n",
       "        vertical-align: top;\n",
       "    }\n",
       "\n",
       "    .dataframe thead th {\n",
       "        text-align: right;\n",
       "    }\n",
       "</style>\n",
       "<table border=\"1\" class=\"dataframe\">\n",
       "  <thead>\n",
       "    <tr style=\"text-align: right;\">\n",
       "      <th></th>\n",
       "      <th>News</th>\n",
       "    </tr>\n",
       "  </thead>\n",
       "  <tbody>\n",
       "    <tr>\n",
       "      <th>0</th>\n",
       "      <td>'Sürücüsüz otomobil yola çıktı', 'Modifiye oto...</td>\n",
       "    </tr>\n",
       "    <tr>\n",
       "      <th>1</th>\n",
       "      <td>'Akıllı telefon bağımlılığına karşı \\'Vekil Te...</td>\n",
       "    </tr>\n",
       "    <tr>\n",
       "      <th>2</th>\n",
       "      <td>'iPhone X ile iPhone 8 Plus karşı karşıya: Dah...</td>\n",
       "    </tr>\n",
       "    <tr>\n",
       "      <th>3</th>\n",
       "      <td>'Avrupa devleri hibrit elektrikli uçak için ko...</td>\n",
       "    </tr>\n",
       "    <tr>\n",
       "      <th>4</th>\n",
       "      <td>'11 yaşındaki kız 25 bin dolar değerindeki bil...</td>\n",
       "    </tr>\n",
       "  </tbody>\n",
       "</table>\n",
       "</div>"
      ],
      "text/plain": [
       "                                                News\n",
       "0  'Sürücüsüz otomobil yola çıktı', 'Modifiye oto...\n",
       "1  'Akıllı telefon bağımlılığına karşı \\'Vekil Te...\n",
       "2  'iPhone X ile iPhone 8 Plus karşı karşıya: Dah...\n",
       "3  'Avrupa devleri hibrit elektrikli uçak için ko...\n",
       "4  '11 yaşındaki kız 25 bin dolar değerindeki bil..."
      ]
     },
     "execution_count": 69,
     "metadata": {},
     "output_type": "execute_result"
    }
   ],
   "source": [
    "import pandas as pd\n",
    "\n",
    "data = pd.DataFrame(open(\"data/news.txt\", \"r\").readlines(), columns =[\"News\"])\n",
    "data.head()"
   ]
  },
  {
   "cell_type": "markdown",
   "metadata": {},
   "source": [
    "##### Remove punctuations"
   ]
  },
  {
   "cell_type": "code",
   "execution_count": 70,
   "metadata": {},
   "outputs": [
    {
     "data": {
      "text/html": [
       "<div>\n",
       "<style scoped>\n",
       "    .dataframe tbody tr th:only-of-type {\n",
       "        vertical-align: middle;\n",
       "    }\n",
       "\n",
       "    .dataframe tbody tr th {\n",
       "        vertical-align: top;\n",
       "    }\n",
       "\n",
       "    .dataframe thead th {\n",
       "        text-align: right;\n",
       "    }\n",
       "</style>\n",
       "<table border=\"1\" class=\"dataframe\">\n",
       "  <thead>\n",
       "    <tr style=\"text-align: right;\">\n",
       "      <th></th>\n",
       "      <th>News</th>\n",
       "    </tr>\n",
       "  </thead>\n",
       "  <tbody>\n",
       "    <tr>\n",
       "      <th>0</th>\n",
       "      <td>Sürücüsüz otomobil yola çıktı Modifiye otomobi...</td>\n",
       "    </tr>\n",
       "    <tr>\n",
       "      <th>1</th>\n",
       "      <td>Akıllı telefon bağımlılığına karşı Vekil Telef...</td>\n",
       "    </tr>\n",
       "    <tr>\n",
       "      <th>2</th>\n",
       "      <td>iPhone X ile iPhone 8 Plus karşı karşıya Daha ...</td>\n",
       "    </tr>\n",
       "    <tr>\n",
       "      <th>3</th>\n",
       "      <td>Avrupa devleri hibrit elektrikli uçak için kol...</td>\n",
       "    </tr>\n",
       "    <tr>\n",
       "      <th>4</th>\n",
       "      <td>11 yaşındaki kız 25 bin dolar değerindeki bili...</td>\n",
       "    </tr>\n",
       "  </tbody>\n",
       "</table>\n",
       "</div>"
      ],
      "text/plain": [
       "                                                News\n",
       "0  Sürücüsüz otomobil yola çıktı Modifiye otomobi...\n",
       "1  Akıllı telefon bağımlılığına karşı Vekil Telef...\n",
       "2  iPhone X ile iPhone 8 Plus karşı karşıya Daha ...\n",
       "3  Avrupa devleri hibrit elektrikli uçak için kol...\n",
       "4  11 yaşındaki kız 25 bin dolar değerindeki bili..."
      ]
     },
     "execution_count": 70,
     "metadata": {},
     "output_type": "execute_result"
    }
   ],
   "source": [
    "data[\"News\"] = data[\"News\"].str.replace('[^\\w\\s]', '')\n",
    "data.head()"
   ]
  },
  {
   "cell_type": "markdown",
   "metadata": {},
   "source": [
    "##### Remove stopwords"
   ]
  },
  {
   "cell_type": "code",
   "execution_count": 71,
   "metadata": {},
   "outputs": [
    {
     "data": {
      "text/html": [
       "<div>\n",
       "<style scoped>\n",
       "    .dataframe tbody tr th:only-of-type {\n",
       "        vertical-align: middle;\n",
       "    }\n",
       "\n",
       "    .dataframe tbody tr th {\n",
       "        vertical-align: top;\n",
       "    }\n",
       "\n",
       "    .dataframe thead th {\n",
       "        text-align: right;\n",
       "    }\n",
       "</style>\n",
       "<table border=\"1\" class=\"dataframe\">\n",
       "  <thead>\n",
       "    <tr style=\"text-align: right;\">\n",
       "      <th></th>\n",
       "      <th>News</th>\n",
       "    </tr>\n",
       "  </thead>\n",
       "  <tbody>\n",
       "    <tr>\n",
       "      <th>0</th>\n",
       "      <td>Sürücüsüz otomobil yola çıktı Modifiye otomobi...</td>\n",
       "    </tr>\n",
       "    <tr>\n",
       "      <th>1</th>\n",
       "      <td>Akıllı telefon bağımlılığına karşı Vekil Telef...</td>\n",
       "    </tr>\n",
       "    <tr>\n",
       "      <th>2</th>\n",
       "      <td>iPhone X iPhone 8 Plus karşı karşıya Daha küçü...</td>\n",
       "    </tr>\n",
       "    <tr>\n",
       "      <th>3</th>\n",
       "      <td>Avrupa devleri hibrit elektrikli uçak kolları ...</td>\n",
       "    </tr>\n",
       "    <tr>\n",
       "      <th>4</th>\n",
       "      <td>11 yaşındaki kız 25 dolar değerindeki bilim öd...</td>\n",
       "    </tr>\n",
       "  </tbody>\n",
       "</table>\n",
       "</div>"
      ],
      "text/plain": [
       "                                                News\n",
       "0  Sürücüsüz otomobil yola çıktı Modifiye otomobi...\n",
       "1  Akıllı telefon bağımlılığına karşı Vekil Telef...\n",
       "2  iPhone X iPhone 8 Plus karşı karşıya Daha küçü...\n",
       "3  Avrupa devleri hibrit elektrikli uçak kolları ...\n",
       "4  11 yaşındaki kız 25 dolar değerindeki bilim öd..."
      ]
     },
     "execution_count": 71,
     "metadata": {},
     "output_type": "execute_result"
    }
   ],
   "source": [
    "data[\"News\"] = data[\"News\"].apply(lambda x: \" \".join(x for x in x.split() if x not in stopwords))\n",
    "data.head()"
   ]
  },
  {
   "cell_type": "markdown",
   "metadata": {},
   "source": [
    "##### Features"
   ]
  },
  {
   "cell_type": "code",
   "execution_count": 72,
   "metadata": {},
   "outputs": [],
   "source": [
    "import re"
   ]
  },
  {
   "cell_type": "code",
   "execution_count": 73,
   "metadata": {},
   "outputs": [
    {
     "data": {
      "text/html": [
       "<div>\n",
       "<style scoped>\n",
       "    .dataframe tbody tr th:only-of-type {\n",
       "        vertical-align: middle;\n",
       "    }\n",
       "\n",
       "    .dataframe tbody tr th {\n",
       "        vertical-align: top;\n",
       "    }\n",
       "\n",
       "    .dataframe thead th {\n",
       "        text-align: right;\n",
       "    }\n",
       "</style>\n",
       "<table border=\"1\" class=\"dataframe\">\n",
       "  <thead>\n",
       "    <tr style=\"text-align: right;\">\n",
       "      <th></th>\n",
       "      <th>News</th>\n",
       "      <th>Char</th>\n",
       "    </tr>\n",
       "  </thead>\n",
       "  <tbody>\n",
       "    <tr>\n",
       "      <th>0</th>\n",
       "      <td>Sürücüsüz otomobil yola çıktı Modifiye otomobi...</td>\n",
       "      <td>596</td>\n",
       "    </tr>\n",
       "    <tr>\n",
       "      <th>1</th>\n",
       "      <td>Akıllı telefon bağımlılığına karşı Vekil Telef...</td>\n",
       "      <td>802</td>\n",
       "    </tr>\n",
       "    <tr>\n",
       "      <th>2</th>\n",
       "      <td>iPhone X iPhone 8 Plus karşı karşıya Daha küçü...</td>\n",
       "      <td>529</td>\n",
       "    </tr>\n",
       "    <tr>\n",
       "      <th>3</th>\n",
       "      <td>Avrupa devleri hibrit elektrikli uçak kolları ...</td>\n",
       "      <td>624</td>\n",
       "    </tr>\n",
       "    <tr>\n",
       "      <th>4</th>\n",
       "      <td>11 yaşındaki kız 25 dolar değerindeki bilim öd...</td>\n",
       "      <td>544</td>\n",
       "    </tr>\n",
       "  </tbody>\n",
       "</table>\n",
       "</div>"
      ],
      "text/plain": [
       "                                                News  Char\n",
       "0  Sürücüsüz otomobil yola çıktı Modifiye otomobi...   596\n",
       "1  Akıllı telefon bağımlılığına karşı Vekil Telef...   802\n",
       "2  iPhone X iPhone 8 Plus karşı karşıya Daha küçü...   529\n",
       "3  Avrupa devleri hibrit elektrikli uçak kolları ...   624\n",
       "4  11 yaşındaki kız 25 dolar değerindeki bilim öd...   544"
      ]
     },
     "execution_count": 73,
     "metadata": {},
     "output_type": "execute_result"
    }
   ],
   "source": [
    "# Character count\n",
    "data[\"Char\"] = data[\"News\"].apply(lambda x: len(re.sub(r\"\\s+\", \"\", x)))\n",
    "data.head()"
   ]
  },
  {
   "cell_type": "code",
   "execution_count": 74,
   "metadata": {},
   "outputs": [
    {
     "data": {
      "text/html": [
       "<div>\n",
       "<style scoped>\n",
       "    .dataframe tbody tr th:only-of-type {\n",
       "        vertical-align: middle;\n",
       "    }\n",
       "\n",
       "    .dataframe tbody tr th {\n",
       "        vertical-align: top;\n",
       "    }\n",
       "\n",
       "    .dataframe thead th {\n",
       "        text-align: right;\n",
       "    }\n",
       "</style>\n",
       "<table border=\"1\" class=\"dataframe\">\n",
       "  <thead>\n",
       "    <tr style=\"text-align: right;\">\n",
       "      <th></th>\n",
       "      <th>News</th>\n",
       "      <th>Char</th>\n",
       "      <th>Str</th>\n",
       "    </tr>\n",
       "  </thead>\n",
       "  <tbody>\n",
       "    <tr>\n",
       "      <th>0</th>\n",
       "      <td>Sürücüsüz otomobil yola çıktı Modifiye otomobi...</td>\n",
       "      <td>596</td>\n",
       "      <td>570</td>\n",
       "    </tr>\n",
       "    <tr>\n",
       "      <th>1</th>\n",
       "      <td>Akıllı telefon bağımlılığına karşı Vekil Telef...</td>\n",
       "      <td>802</td>\n",
       "      <td>801</td>\n",
       "    </tr>\n",
       "    <tr>\n",
       "      <th>2</th>\n",
       "      <td>iPhone X iPhone 8 Plus karşı karşıya Daha küçü...</td>\n",
       "      <td>529</td>\n",
       "      <td>497</td>\n",
       "    </tr>\n",
       "    <tr>\n",
       "      <th>3</th>\n",
       "      <td>Avrupa devleri hibrit elektrikli uçak kolları ...</td>\n",
       "      <td>624</td>\n",
       "      <td>605</td>\n",
       "    </tr>\n",
       "    <tr>\n",
       "      <th>4</th>\n",
       "      <td>11 yaşındaki kız 25 dolar değerindeki bilim öd...</td>\n",
       "      <td>544</td>\n",
       "      <td>536</td>\n",
       "    </tr>\n",
       "  </tbody>\n",
       "</table>\n",
       "</div>"
      ],
      "text/plain": [
       "                                                News  Char  Str\n",
       "0  Sürücüsüz otomobil yola çıktı Modifiye otomobi...   596  570\n",
       "1  Akıllı telefon bağımlılığına karşı Vekil Telef...   802  801\n",
       "2  iPhone X iPhone 8 Plus karşı karşıya Daha küçü...   529  497\n",
       "3  Avrupa devleri hibrit elektrikli uçak kolları ...   624  605\n",
       "4  11 yaşındaki kız 25 dolar değerindeki bilim öd...   544  536"
      ]
     },
     "execution_count": 74,
     "metadata": {},
     "output_type": "execute_result"
    }
   ],
   "source": [
    "# String count\n",
    "data[\"Str\"] = data[\"News\"].apply(lambda x: len(re.sub(r\"[^a-zA-ZığüşöçİĞÜŞÖÇ]+\", \"\", x)))\n",
    "data.head()"
   ]
  },
  {
   "cell_type": "code",
   "execution_count": 75,
   "metadata": {},
   "outputs": [
    {
     "data": {
      "text/html": [
       "<div>\n",
       "<style scoped>\n",
       "    .dataframe tbody tr th:only-of-type {\n",
       "        vertical-align: middle;\n",
       "    }\n",
       "\n",
       "    .dataframe tbody tr th {\n",
       "        vertical-align: top;\n",
       "    }\n",
       "\n",
       "    .dataframe thead th {\n",
       "        text-align: right;\n",
       "    }\n",
       "</style>\n",
       "<table border=\"1\" class=\"dataframe\">\n",
       "  <thead>\n",
       "    <tr style=\"text-align: right;\">\n",
       "      <th></th>\n",
       "      <th>News</th>\n",
       "      <th>Char</th>\n",
       "      <th>Str</th>\n",
       "      <th>Int</th>\n",
       "    </tr>\n",
       "  </thead>\n",
       "  <tbody>\n",
       "    <tr>\n",
       "      <th>0</th>\n",
       "      <td>Sürücüsüz otomobil yola çıktı Modifiye otomobi...</td>\n",
       "      <td>596</td>\n",
       "      <td>570</td>\n",
       "      <td>26</td>\n",
       "    </tr>\n",
       "    <tr>\n",
       "      <th>1</th>\n",
       "      <td>Akıllı telefon bağımlılığına karşı Vekil Telef...</td>\n",
       "      <td>802</td>\n",
       "      <td>801</td>\n",
       "      <td>1</td>\n",
       "    </tr>\n",
       "    <tr>\n",
       "      <th>2</th>\n",
       "      <td>iPhone X iPhone 8 Plus karşı karşıya Daha küçü...</td>\n",
       "      <td>529</td>\n",
       "      <td>497</td>\n",
       "      <td>32</td>\n",
       "    </tr>\n",
       "    <tr>\n",
       "      <th>3</th>\n",
       "      <td>Avrupa devleri hibrit elektrikli uçak kolları ...</td>\n",
       "      <td>624</td>\n",
       "      <td>605</td>\n",
       "      <td>19</td>\n",
       "    </tr>\n",
       "    <tr>\n",
       "      <th>4</th>\n",
       "      <td>11 yaşındaki kız 25 dolar değerindeki bilim öd...</td>\n",
       "      <td>544</td>\n",
       "      <td>536</td>\n",
       "      <td>8</td>\n",
       "    </tr>\n",
       "  </tbody>\n",
       "</table>\n",
       "</div>"
      ],
      "text/plain": [
       "                                                News  Char  Str  Int\n",
       "0  Sürücüsüz otomobil yola çıktı Modifiye otomobi...   596  570   26\n",
       "1  Akıllı telefon bağımlılığına karşı Vekil Telef...   802  801    1\n",
       "2  iPhone X iPhone 8 Plus karşı karşıya Daha küçü...   529  497   32\n",
       "3  Avrupa devleri hibrit elektrikli uçak kolları ...   624  605   19\n",
       "4  11 yaşındaki kız 25 dolar değerindeki bilim öd...   544  536    8"
      ]
     },
     "execution_count": 75,
     "metadata": {},
     "output_type": "execute_result"
    }
   ],
   "source": [
    "# Integer count\n",
    "data[\"Int\"] = data[\"News\"].apply(lambda x: len(re.sub(r\"[^\\d]+\", \"\", x)))\n",
    "data.head()"
   ]
  },
  {
   "cell_type": "code",
   "execution_count": 76,
   "metadata": {},
   "outputs": [
    {
     "data": {
      "text/html": [
       "<div>\n",
       "<style scoped>\n",
       "    .dataframe tbody tr th:only-of-type {\n",
       "        vertical-align: middle;\n",
       "    }\n",
       "\n",
       "    .dataframe tbody tr th {\n",
       "        vertical-align: top;\n",
       "    }\n",
       "\n",
       "    .dataframe thead th {\n",
       "        text-align: right;\n",
       "    }\n",
       "</style>\n",
       "<table border=\"1\" class=\"dataframe\">\n",
       "  <thead>\n",
       "    <tr style=\"text-align: right;\">\n",
       "      <th></th>\n",
       "      <th>News</th>\n",
       "      <th>Char</th>\n",
       "      <th>Str</th>\n",
       "      <th>Int</th>\n",
       "      <th>Word</th>\n",
       "    </tr>\n",
       "  </thead>\n",
       "  <tbody>\n",
       "    <tr>\n",
       "      <th>0</th>\n",
       "      <td>Sürücüsüz otomobil yola çıktı Modifiye otomobi...</td>\n",
       "      <td>596</td>\n",
       "      <td>570</td>\n",
       "      <td>26</td>\n",
       "      <td>85</td>\n",
       "    </tr>\n",
       "    <tr>\n",
       "      <th>1</th>\n",
       "      <td>Akıllı telefon bağımlılığına karşı Vekil Telef...</td>\n",
       "      <td>802</td>\n",
       "      <td>801</td>\n",
       "      <td>1</td>\n",
       "      <td>97</td>\n",
       "    </tr>\n",
       "    <tr>\n",
       "      <th>2</th>\n",
       "      <td>iPhone X iPhone 8 Plus karşı karşıya Daha küçü...</td>\n",
       "      <td>529</td>\n",
       "      <td>497</td>\n",
       "      <td>32</td>\n",
       "      <td>101</td>\n",
       "    </tr>\n",
       "    <tr>\n",
       "      <th>3</th>\n",
       "      <td>Avrupa devleri hibrit elektrikli uçak kolları ...</td>\n",
       "      <td>624</td>\n",
       "      <td>605</td>\n",
       "      <td>19</td>\n",
       "      <td>90</td>\n",
       "    </tr>\n",
       "    <tr>\n",
       "      <th>4</th>\n",
       "      <td>11 yaşındaki kız 25 dolar değerindeki bilim öd...</td>\n",
       "      <td>544</td>\n",
       "      <td>536</td>\n",
       "      <td>8</td>\n",
       "      <td>77</td>\n",
       "    </tr>\n",
       "  </tbody>\n",
       "</table>\n",
       "</div>"
      ],
      "text/plain": [
       "                                                News  Char  Str  Int  Word\n",
       "0  Sürücüsüz otomobil yola çıktı Modifiye otomobi...   596  570   26    85\n",
       "1  Akıllı telefon bağımlılığına karşı Vekil Telef...   802  801    1    97\n",
       "2  iPhone X iPhone 8 Plus karşı karşıya Daha küçü...   529  497   32   101\n",
       "3  Avrupa devleri hibrit elektrikli uçak kolları ...   624  605   19    90\n",
       "4  11 yaşındaki kız 25 dolar değerindeki bilim öd...   544  536    8    77"
      ]
     },
     "execution_count": 76,
     "metadata": {},
     "output_type": "execute_result"
    }
   ],
   "source": [
    "# Word count\n",
    "data[\"Word\"] = data[\"News\"].apply(lambda x: len(x.split()))\n",
    "data.head()"
   ]
  },
  {
   "cell_type": "code",
   "execution_count": 78,
   "metadata": {},
   "outputs": [
    {
     "data": {
      "text/html": [
       "<div>\n",
       "<style scoped>\n",
       "    .dataframe tbody tr th:only-of-type {\n",
       "        vertical-align: middle;\n",
       "    }\n",
       "\n",
       "    .dataframe tbody tr th {\n",
       "        vertical-align: top;\n",
       "    }\n",
       "\n",
       "    .dataframe thead th {\n",
       "        text-align: right;\n",
       "    }\n",
       "</style>\n",
       "<table border=\"1\" class=\"dataframe\">\n",
       "  <thead>\n",
       "    <tr style=\"text-align: right;\">\n",
       "      <th></th>\n",
       "      <th>News</th>\n",
       "      <th>Char</th>\n",
       "      <th>Str</th>\n",
       "      <th>Int</th>\n",
       "      <th>Word</th>\n",
       "      <th>Avg</th>\n",
       "    </tr>\n",
       "  </thead>\n",
       "  <tbody>\n",
       "    <tr>\n",
       "      <th>0</th>\n",
       "      <td>Sürücüsüz otomobil yola çıktı Modifiye otomobi...</td>\n",
       "      <td>596</td>\n",
       "      <td>570</td>\n",
       "      <td>26</td>\n",
       "      <td>85</td>\n",
       "      <td>7.011765</td>\n",
       "    </tr>\n",
       "    <tr>\n",
       "      <th>1</th>\n",
       "      <td>Akıllı telefon bağımlılığına karşı Vekil Telef...</td>\n",
       "      <td>802</td>\n",
       "      <td>801</td>\n",
       "      <td>1</td>\n",
       "      <td>97</td>\n",
       "      <td>8.268041</td>\n",
       "    </tr>\n",
       "    <tr>\n",
       "      <th>2</th>\n",
       "      <td>iPhone X iPhone 8 Plus karşı karşıya Daha küçü...</td>\n",
       "      <td>529</td>\n",
       "      <td>497</td>\n",
       "      <td>32</td>\n",
       "      <td>101</td>\n",
       "      <td>5.237624</td>\n",
       "    </tr>\n",
       "    <tr>\n",
       "      <th>3</th>\n",
       "      <td>Avrupa devleri hibrit elektrikli uçak kolları ...</td>\n",
       "      <td>624</td>\n",
       "      <td>605</td>\n",
       "      <td>19</td>\n",
       "      <td>90</td>\n",
       "      <td>6.933333</td>\n",
       "    </tr>\n",
       "    <tr>\n",
       "      <th>4</th>\n",
       "      <td>11 yaşındaki kız 25 dolar değerindeki bilim öd...</td>\n",
       "      <td>544</td>\n",
       "      <td>536</td>\n",
       "      <td>8</td>\n",
       "      <td>77</td>\n",
       "      <td>7.064935</td>\n",
       "    </tr>\n",
       "  </tbody>\n",
       "</table>\n",
       "</div>"
      ],
      "text/plain": [
       "                                                News  Char  Str  Int  Word  \\\n",
       "0  Sürücüsüz otomobil yola çıktı Modifiye otomobi...   596  570   26    85   \n",
       "1  Akıllı telefon bağımlılığına karşı Vekil Telef...   802  801    1    97   \n",
       "2  iPhone X iPhone 8 Plus karşı karşıya Daha küçü...   529  497   32   101   \n",
       "3  Avrupa devleri hibrit elektrikli uçak kolları ...   624  605   19    90   \n",
       "4  11 yaşındaki kız 25 dolar değerindeki bilim öd...   544  536    8    77   \n",
       "\n",
       "        Avg  \n",
       "0  7.011765  \n",
       "1  8.268041  \n",
       "2  5.237624  \n",
       "3  6.933333  \n",
       "4  7.064935  "
      ]
     },
     "execution_count": 78,
     "metadata": {},
     "output_type": "execute_result"
    }
   ],
   "source": [
    "# Average Word Length\n",
    "data[\"Avg\"] = data[\"News\"].apply(lambda x: len(re.sub(r\"\\s+\", \"\", x)) / len(x.split()))\n",
    "data.head()"
   ]
  },
  {
   "cell_type": "markdown",
   "metadata": {},
   "source": [
    "##### Frequent words"
   ]
  },
  {
   "cell_type": "code",
   "execution_count": 81,
   "metadata": {},
   "outputs": [
    {
     "data": {
      "text/plain": [
       "yeni         49\n",
       "iPhone       41\n",
       "r            32\n",
       "2            28\n",
       "telefon      24\n",
       "Apple        23\n",
       "teknoloji    23\n",
       "sahip        23\n",
       "ilk          22\n",
       "8            22\n",
       "dtype: int64"
      ]
     },
     "execution_count": 81,
     "metadata": {},
     "output_type": "execute_result"
    }
   ],
   "source": [
    "freq = pd.Series(\" \".join(data[\"News\"]).split()).value_counts()[:10]\n",
    "freq"
   ]
  },
  {
   "cell_type": "code",
   "execution_count": 82,
   "metadata": {},
   "outputs": [
    {
     "data": {
      "text/html": [
       "<div>\n",
       "<style scoped>\n",
       "    .dataframe tbody tr th:only-of-type {\n",
       "        vertical-align: middle;\n",
       "    }\n",
       "\n",
       "    .dataframe tbody tr th {\n",
       "        vertical-align: top;\n",
       "    }\n",
       "\n",
       "    .dataframe thead th {\n",
       "        text-align: right;\n",
       "    }\n",
       "</style>\n",
       "<table border=\"1\" class=\"dataframe\">\n",
       "  <thead>\n",
       "    <tr style=\"text-align: right;\">\n",
       "      <th></th>\n",
       "      <th>News</th>\n",
       "      <th>Char</th>\n",
       "      <th>Str</th>\n",
       "      <th>Int</th>\n",
       "      <th>Word</th>\n",
       "      <th>Avg</th>\n",
       "    </tr>\n",
       "  </thead>\n",
       "  <tbody>\n",
       "    <tr>\n",
       "      <th>0</th>\n",
       "      <td>Sürücüsüz otomobil yola çıktı Modifiye otomobi...</td>\n",
       "      <td>596</td>\n",
       "      <td>570</td>\n",
       "      <td>26</td>\n",
       "      <td>85</td>\n",
       "      <td>7.011765</td>\n",
       "    </tr>\n",
       "    <tr>\n",
       "      <th>1</th>\n",
       "      <td>Akıllı bağımlılığına karşı Vekil Telefon Avust...</td>\n",
       "      <td>802</td>\n",
       "      <td>801</td>\n",
       "      <td>1</td>\n",
       "      <td>97</td>\n",
       "      <td>8.268041</td>\n",
       "    </tr>\n",
       "    <tr>\n",
       "      <th>2</th>\n",
       "      <td>X Plus karşı karşıya Daha küçük kasa büyük ekr...</td>\n",
       "      <td>529</td>\n",
       "      <td>497</td>\n",
       "      <td>32</td>\n",
       "      <td>101</td>\n",
       "      <td>5.237624</td>\n",
       "    </tr>\n",
       "    <tr>\n",
       "      <th>3</th>\n",
       "      <td>Avrupa devleri hibrit elektrikli uçak kolları ...</td>\n",
       "      <td>624</td>\n",
       "      <td>605</td>\n",
       "      <td>19</td>\n",
       "      <td>90</td>\n",
       "      <td>6.933333</td>\n",
       "    </tr>\n",
       "    <tr>\n",
       "      <th>4</th>\n",
       "      <td>11 yaşındaki kız 25 dolar değerindeki bilim öd...</td>\n",
       "      <td>544</td>\n",
       "      <td>536</td>\n",
       "      <td>8</td>\n",
       "      <td>77</td>\n",
       "      <td>7.064935</td>\n",
       "    </tr>\n",
       "  </tbody>\n",
       "</table>\n",
       "</div>"
      ],
      "text/plain": [
       "                                                News  Char  Str  Int  Word  \\\n",
       "0  Sürücüsüz otomobil yola çıktı Modifiye otomobi...   596  570   26    85   \n",
       "1  Akıllı bağımlılığına karşı Vekil Telefon Avust...   802  801    1    97   \n",
       "2  X Plus karşı karşıya Daha küçük kasa büyük ekr...   529  497   32   101   \n",
       "3  Avrupa devleri hibrit elektrikli uçak kolları ...   624  605   19    90   \n",
       "4  11 yaşındaki kız 25 dolar değerindeki bilim öd...   544  536    8    77   \n",
       "\n",
       "        Avg  \n",
       "0  7.011765  \n",
       "1  8.268041  \n",
       "2  5.237624  \n",
       "3  6.933333  \n",
       "4  7.064935  "
      ]
     },
     "execution_count": 82,
     "metadata": {},
     "output_type": "execute_result"
    }
   ],
   "source": [
    "# Remove frequent words\n",
    "\n",
    "data[\"News\"] = data[\"News\"].apply(lambda x: \" \".join(x for x in x.split() if x not in list(freq.index)))\n",
    "data.head()"
   ]
  },
  {
   "cell_type": "markdown",
   "metadata": {},
   "source": [
    "##### Rare words"
   ]
  },
  {
   "cell_type": "code",
   "execution_count": 83,
   "metadata": {},
   "outputs": [
    {
     "data": {
      "text/plain": [
       "teknolojisinde    1\n",
       "Kremlinin         1\n",
       "kardeşler         1\n",
       "Çine              1\n",
       "türüne            1\n",
       "gelişmeleri       1\n",
       "bıraktı           1\n",
       "yılın             1\n",
       "3ü                1\n",
       "İspatı            1\n",
       "dtype: int64"
      ]
     },
     "execution_count": 83,
     "metadata": {},
     "output_type": "execute_result"
    }
   ],
   "source": [
    "rare = pd.Series(\" \".join(data[\"News\"]).split()).value_counts()[-10:]\n",
    "rare"
   ]
  },
  {
   "cell_type": "code",
   "execution_count": 84,
   "metadata": {},
   "outputs": [
    {
     "data": {
      "text/html": [
       "<div>\n",
       "<style scoped>\n",
       "    .dataframe tbody tr th:only-of-type {\n",
       "        vertical-align: middle;\n",
       "    }\n",
       "\n",
       "    .dataframe tbody tr th {\n",
       "        vertical-align: top;\n",
       "    }\n",
       "\n",
       "    .dataframe thead th {\n",
       "        text-align: right;\n",
       "    }\n",
       "</style>\n",
       "<table border=\"1\" class=\"dataframe\">\n",
       "  <thead>\n",
       "    <tr style=\"text-align: right;\">\n",
       "      <th></th>\n",
       "      <th>News</th>\n",
       "      <th>Char</th>\n",
       "      <th>Str</th>\n",
       "      <th>Int</th>\n",
       "      <th>Word</th>\n",
       "      <th>Avg</th>\n",
       "    </tr>\n",
       "  </thead>\n",
       "  <tbody>\n",
       "    <tr>\n",
       "      <th>0</th>\n",
       "      <td>Sürücüsüz otomobil yola çıktı Modifiye otomobi...</td>\n",
       "      <td>596</td>\n",
       "      <td>570</td>\n",
       "      <td>26</td>\n",
       "      <td>85</td>\n",
       "      <td>7.011765</td>\n",
       "    </tr>\n",
       "    <tr>\n",
       "      <th>1</th>\n",
       "      <td>Akıllı bağımlılığına karşı Vekil Telefon Avust...</td>\n",
       "      <td>802</td>\n",
       "      <td>801</td>\n",
       "      <td>1</td>\n",
       "      <td>97</td>\n",
       "      <td>8.268041</td>\n",
       "    </tr>\n",
       "    <tr>\n",
       "      <th>2</th>\n",
       "      <td>X Plus karşı karşıya Daha küçük kasa büyük ekr...</td>\n",
       "      <td>529</td>\n",
       "      <td>497</td>\n",
       "      <td>32</td>\n",
       "      <td>101</td>\n",
       "      <td>5.237624</td>\n",
       "    </tr>\n",
       "    <tr>\n",
       "      <th>3</th>\n",
       "      <td>Avrupa devleri hibrit elektrikli uçak kolları ...</td>\n",
       "      <td>624</td>\n",
       "      <td>605</td>\n",
       "      <td>19</td>\n",
       "      <td>90</td>\n",
       "      <td>6.933333</td>\n",
       "    </tr>\n",
       "    <tr>\n",
       "      <th>4</th>\n",
       "      <td>11 yaşındaki kız 25 dolar değerindeki bilim öd...</td>\n",
       "      <td>544</td>\n",
       "      <td>536</td>\n",
       "      <td>8</td>\n",
       "      <td>77</td>\n",
       "      <td>7.064935</td>\n",
       "    </tr>\n",
       "  </tbody>\n",
       "</table>\n",
       "</div>"
      ],
      "text/plain": [
       "                                                News  Char  Str  Int  Word  \\\n",
       "0  Sürücüsüz otomobil yola çıktı Modifiye otomobi...   596  570   26    85   \n",
       "1  Akıllı bağımlılığına karşı Vekil Telefon Avust...   802  801    1    97   \n",
       "2  X Plus karşı karşıya Daha küçük kasa büyük ekr...   529  497   32   101   \n",
       "3  Avrupa devleri hibrit elektrikli uçak kolları ...   624  605   19    90   \n",
       "4  11 yaşındaki kız 25 dolar değerindeki bilim öd...   544  536    8    77   \n",
       "\n",
       "        Avg  \n",
       "0  7.011765  \n",
       "1  8.268041  \n",
       "2  5.237624  \n",
       "3  6.933333  \n",
       "4  7.064935  "
      ]
     },
     "execution_count": 84,
     "metadata": {},
     "output_type": "execute_result"
    }
   ],
   "source": [
    "# Remove rare words\n",
    "\n",
    "data[\"News\"] = data[\"News\"].apply(lambda x: \" \".join(x for x in x.split() if x not in list(rare.index)))\n",
    "data.head()"
   ]
  },
  {
   "cell_type": "markdown",
   "metadata": {},
   "source": [
    "### TODO"
   ]
  }
 ],
 "metadata": {
  "kernelspec": {
   "display_name": "Python 3",
   "language": "python",
   "name": "python3"
  },
  "language_info": {
   "codemirror_mode": {
    "name": "ipython",
    "version": 3
   },
   "file_extension": ".py",
   "mimetype": "text/x-python",
   "name": "python",
   "nbconvert_exporter": "python",
   "pygments_lexer": "ipython3",
   "version": "3.7.4"
  }
 },
 "nbformat": 4,
 "nbformat_minor": 4
}
