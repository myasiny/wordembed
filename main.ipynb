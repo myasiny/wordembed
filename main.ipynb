{
 "cells": [
  {
   "cell_type": "markdown",
   "metadata": {},
   "source": [
    "# Word Embedding"
   ]
  },
  {
   "cell_type": "markdown",
   "metadata": {},
   "source": [
    "It is a natural language processing project which maps words by learning from text content that consists of technology news collected from Turkish websites.\n",
    "\n",
    "The dataset used in this project was downloaded from https://hakan.io/makine-ogrenmesi-turkce-haber-metinleri-veri-seti/ .\n",
    "\n",
    "Credits: https://www.analyticsvidhya.com/blog/2018/02/the-different-methods-deal-text-data-predictive-python/"
   ]
  },
  {
   "cell_type": "markdown",
   "metadata": {},
   "source": [
    "### Data"
   ]
  },
  {
   "cell_type": "code",
   "execution_count": 1,
   "metadata": {},
   "outputs": [],
   "source": [
    "stopwords = [i.strip() for i in open(\"data/stopwords.txt\", \"r\").readlines()]"
   ]
  },
  {
   "cell_type": "code",
   "execution_count": 2,
   "metadata": {},
   "outputs": [
    {
     "data": {
      "text/html": [
       "<div>\n",
       "<style scoped>\n",
       "    .dataframe tbody tr th:only-of-type {\n",
       "        vertical-align: middle;\n",
       "    }\n",
       "\n",
       "    .dataframe tbody tr th {\n",
       "        vertical-align: top;\n",
       "    }\n",
       "\n",
       "    .dataframe thead th {\n",
       "        text-align: right;\n",
       "    }\n",
       "</style>\n",
       "<table border=\"1\" class=\"dataframe\">\n",
       "  <thead>\n",
       "    <tr style=\"text-align: right;\">\n",
       "      <th></th>\n",
       "      <th>News</th>\n",
       "    </tr>\n",
       "  </thead>\n",
       "  <tbody>\n",
       "    <tr>\n",
       "      <th>0</th>\n",
       "      <td>'Sürücüsüz otomobil yola çıktı', 'Modifiye oto...</td>\n",
       "    </tr>\n",
       "    <tr>\n",
       "      <th>1</th>\n",
       "      <td>'Akıllı telefon bağımlılığına karşı \\'Vekil Te...</td>\n",
       "    </tr>\n",
       "    <tr>\n",
       "      <th>2</th>\n",
       "      <td>'iPhone X ile iPhone 8 Plus karşı karşıya: Dah...</td>\n",
       "    </tr>\n",
       "    <tr>\n",
       "      <th>3</th>\n",
       "      <td>'Avrupa devleri hibrit elektrikli uçak için ko...</td>\n",
       "    </tr>\n",
       "    <tr>\n",
       "      <th>4</th>\n",
       "      <td>'11 yaşındaki kız 25 bin dolar değerindeki bil...</td>\n",
       "    </tr>\n",
       "  </tbody>\n",
       "</table>\n",
       "</div>"
      ],
      "text/plain": [
       "                                                News\n",
       "0  'Sürücüsüz otomobil yola çıktı', 'Modifiye oto...\n",
       "1  'Akıllı telefon bağımlılığına karşı \\'Vekil Te...\n",
       "2  'iPhone X ile iPhone 8 Plus karşı karşıya: Dah...\n",
       "3  'Avrupa devleri hibrit elektrikli uçak için ko...\n",
       "4  '11 yaşındaki kız 25 bin dolar değerindeki bil..."
      ]
     },
     "execution_count": 2,
     "metadata": {},
     "output_type": "execute_result"
    }
   ],
   "source": [
    "import pandas as pd\n",
    "\n",
    "data = pd.DataFrame(open(\"data/news.txt\", \"r\").readlines(), columns =[\"News\"])\n",
    "data.head()"
   ]
  },
  {
   "cell_type": "markdown",
   "metadata": {},
   "source": [
    "##### Lowercase"
   ]
  },
  {
   "cell_type": "code",
   "execution_count": 3,
   "metadata": {},
   "outputs": [
    {
     "data": {
      "text/html": [
       "<div>\n",
       "<style scoped>\n",
       "    .dataframe tbody tr th:only-of-type {\n",
       "        vertical-align: middle;\n",
       "    }\n",
       "\n",
       "    .dataframe tbody tr th {\n",
       "        vertical-align: top;\n",
       "    }\n",
       "\n",
       "    .dataframe thead th {\n",
       "        text-align: right;\n",
       "    }\n",
       "</style>\n",
       "<table border=\"1\" class=\"dataframe\">\n",
       "  <thead>\n",
       "    <tr style=\"text-align: right;\">\n",
       "      <th></th>\n",
       "      <th>News</th>\n",
       "    </tr>\n",
       "  </thead>\n",
       "  <tbody>\n",
       "    <tr>\n",
       "      <th>0</th>\n",
       "      <td>'sürücüsüz otomobil yola çıktı', 'modifiye oto...</td>\n",
       "    </tr>\n",
       "    <tr>\n",
       "      <th>1</th>\n",
       "      <td>'akıllı telefon bağımlılığına karşı \\'vekil te...</td>\n",
       "    </tr>\n",
       "    <tr>\n",
       "      <th>2</th>\n",
       "      <td>'iphone x ile iphone 8 plus karşı karşıya: dah...</td>\n",
       "    </tr>\n",
       "    <tr>\n",
       "      <th>3</th>\n",
       "      <td>'avrupa devleri hibrit elektrikli uçak için ko...</td>\n",
       "    </tr>\n",
       "    <tr>\n",
       "      <th>4</th>\n",
       "      <td>'11 yaşındaki kız 25 bin dolar değerindeki bil...</td>\n",
       "    </tr>\n",
       "  </tbody>\n",
       "</table>\n",
       "</div>"
      ],
      "text/plain": [
       "                                                News\n",
       "0  'sürücüsüz otomobil yola çıktı', 'modifiye oto...\n",
       "1  'akıllı telefon bağımlılığına karşı \\'vekil te...\n",
       "2  'iphone x ile iphone 8 plus karşı karşıya: dah...\n",
       "3  'avrupa devleri hibrit elektrikli uçak için ko...\n",
       "4  '11 yaşındaki kız 25 bin dolar değerindeki bil..."
      ]
     },
     "execution_count": 3,
     "metadata": {},
     "output_type": "execute_result"
    }
   ],
   "source": [
    "data[\"News\"] = data[\"News\"].apply(lambda x: \" \".join(x.lower() for x in x.split()))\n",
    "data.head()"
   ]
  },
  {
   "cell_type": "markdown",
   "metadata": {},
   "source": [
    "##### Remove punctuations"
   ]
  },
  {
   "cell_type": "code",
   "execution_count": 4,
   "metadata": {},
   "outputs": [
    {
     "data": {
      "text/html": [
       "<div>\n",
       "<style scoped>\n",
       "    .dataframe tbody tr th:only-of-type {\n",
       "        vertical-align: middle;\n",
       "    }\n",
       "\n",
       "    .dataframe tbody tr th {\n",
       "        vertical-align: top;\n",
       "    }\n",
       "\n",
       "    .dataframe thead th {\n",
       "        text-align: right;\n",
       "    }\n",
       "</style>\n",
       "<table border=\"1\" class=\"dataframe\">\n",
       "  <thead>\n",
       "    <tr style=\"text-align: right;\">\n",
       "      <th></th>\n",
       "      <th>News</th>\n",
       "    </tr>\n",
       "  </thead>\n",
       "  <tbody>\n",
       "    <tr>\n",
       "      <th>0</th>\n",
       "      <td>sürücüsüz otomobil yola çıktı modifiye otomobi...</td>\n",
       "    </tr>\n",
       "    <tr>\n",
       "      <th>1</th>\n",
       "      <td>akıllı telefon bağımlılığına karşı vekil telef...</td>\n",
       "    </tr>\n",
       "    <tr>\n",
       "      <th>2</th>\n",
       "      <td>iphone x ile iphone 8 plus karşı karşıya daha ...</td>\n",
       "    </tr>\n",
       "    <tr>\n",
       "      <th>3</th>\n",
       "      <td>avrupa devleri hibrit elektrikli uçak için kol...</td>\n",
       "    </tr>\n",
       "    <tr>\n",
       "      <th>4</th>\n",
       "      <td>11 yaşındaki kız 25 bin dolar değerindeki bili...</td>\n",
       "    </tr>\n",
       "  </tbody>\n",
       "</table>\n",
       "</div>"
      ],
      "text/plain": [
       "                                                News\n",
       "0  sürücüsüz otomobil yola çıktı modifiye otomobi...\n",
       "1  akıllı telefon bağımlılığına karşı vekil telef...\n",
       "2  iphone x ile iphone 8 plus karşı karşıya daha ...\n",
       "3  avrupa devleri hibrit elektrikli uçak için kol...\n",
       "4  11 yaşındaki kız 25 bin dolar değerindeki bili..."
      ]
     },
     "execution_count": 4,
     "metadata": {},
     "output_type": "execute_result"
    }
   ],
   "source": [
    "data[\"News\"] = data[\"News\"].str.replace('[^\\w\\s]', '')\n",
    "data.head()"
   ]
  },
  {
   "cell_type": "markdown",
   "metadata": {},
   "source": [
    "##### Remove stopwords"
   ]
  },
  {
   "cell_type": "code",
   "execution_count": 5,
   "metadata": {},
   "outputs": [
    {
     "data": {
      "text/html": [
       "<div>\n",
       "<style scoped>\n",
       "    .dataframe tbody tr th:only-of-type {\n",
       "        vertical-align: middle;\n",
       "    }\n",
       "\n",
       "    .dataframe tbody tr th {\n",
       "        vertical-align: top;\n",
       "    }\n",
       "\n",
       "    .dataframe thead th {\n",
       "        text-align: right;\n",
       "    }\n",
       "</style>\n",
       "<table border=\"1\" class=\"dataframe\">\n",
       "  <thead>\n",
       "    <tr style=\"text-align: right;\">\n",
       "      <th></th>\n",
       "      <th>News</th>\n",
       "    </tr>\n",
       "  </thead>\n",
       "  <tbody>\n",
       "    <tr>\n",
       "      <th>0</th>\n",
       "      <td>sürücüsüz otomobil yola çıktı modifiye otomobi...</td>\n",
       "    </tr>\n",
       "    <tr>\n",
       "      <th>1</th>\n",
       "      <td>akıllı telefon bağımlılığına karşı vekil telef...</td>\n",
       "    </tr>\n",
       "    <tr>\n",
       "      <th>2</th>\n",
       "      <td>iphone x iphone 8 plus karşı karşıya küçük kas...</td>\n",
       "    </tr>\n",
       "    <tr>\n",
       "      <th>3</th>\n",
       "      <td>avrupa devleri hibrit elektrikli uçak kolları ...</td>\n",
       "    </tr>\n",
       "    <tr>\n",
       "      <th>4</th>\n",
       "      <td>11 yaşındaki kız 25 dolar değerindeki bilim öd...</td>\n",
       "    </tr>\n",
       "  </tbody>\n",
       "</table>\n",
       "</div>"
      ],
      "text/plain": [
       "                                                News\n",
       "0  sürücüsüz otomobil yola çıktı modifiye otomobi...\n",
       "1  akıllı telefon bağımlılığına karşı vekil telef...\n",
       "2  iphone x iphone 8 plus karşı karşıya küçük kas...\n",
       "3  avrupa devleri hibrit elektrikli uçak kolları ...\n",
       "4  11 yaşındaki kız 25 dolar değerindeki bilim öd..."
      ]
     },
     "execution_count": 5,
     "metadata": {},
     "output_type": "execute_result"
    }
   ],
   "source": [
    "data[\"News\"] = data[\"News\"].apply(lambda x: \" \".join(x for x in x.split() if x not in stopwords))\n",
    "data.head()"
   ]
  },
  {
   "cell_type": "markdown",
   "metadata": {},
   "source": [
    "##### Features"
   ]
  },
  {
   "cell_type": "code",
   "execution_count": 6,
   "metadata": {},
   "outputs": [],
   "source": [
    "import re"
   ]
  },
  {
   "cell_type": "code",
   "execution_count": 7,
   "metadata": {},
   "outputs": [
    {
     "data": {
      "text/html": [
       "<div>\n",
       "<style scoped>\n",
       "    .dataframe tbody tr th:only-of-type {\n",
       "        vertical-align: middle;\n",
       "    }\n",
       "\n",
       "    .dataframe tbody tr th {\n",
       "        vertical-align: top;\n",
       "    }\n",
       "\n",
       "    .dataframe thead th {\n",
       "        text-align: right;\n",
       "    }\n",
       "</style>\n",
       "<table border=\"1\" class=\"dataframe\">\n",
       "  <thead>\n",
       "    <tr style=\"text-align: right;\">\n",
       "      <th></th>\n",
       "      <th>News</th>\n",
       "      <th>Char</th>\n",
       "    </tr>\n",
       "  </thead>\n",
       "  <tbody>\n",
       "    <tr>\n",
       "      <th>0</th>\n",
       "      <td>sürücüsüz otomobil yola çıktı modifiye otomobi...</td>\n",
       "      <td>589</td>\n",
       "    </tr>\n",
       "    <tr>\n",
       "      <th>1</th>\n",
       "      <td>akıllı telefon bağımlılığına karşı vekil telef...</td>\n",
       "      <td>800</td>\n",
       "    </tr>\n",
       "    <tr>\n",
       "      <th>2</th>\n",
       "      <td>iphone x iphone 8 plus karşı karşıya küçük kas...</td>\n",
       "      <td>521</td>\n",
       "    </tr>\n",
       "    <tr>\n",
       "      <th>3</th>\n",
       "      <td>avrupa devleri hibrit elektrikli uçak kolları ...</td>\n",
       "      <td>624</td>\n",
       "    </tr>\n",
       "    <tr>\n",
       "      <th>4</th>\n",
       "      <td>11 yaşındaki kız 25 dolar değerindeki bilim öd...</td>\n",
       "      <td>544</td>\n",
       "    </tr>\n",
       "  </tbody>\n",
       "</table>\n",
       "</div>"
      ],
      "text/plain": [
       "                                                News  Char\n",
       "0  sürücüsüz otomobil yola çıktı modifiye otomobi...   589\n",
       "1  akıllı telefon bağımlılığına karşı vekil telef...   800\n",
       "2  iphone x iphone 8 plus karşı karşıya küçük kas...   521\n",
       "3  avrupa devleri hibrit elektrikli uçak kolları ...   624\n",
       "4  11 yaşındaki kız 25 dolar değerindeki bilim öd...   544"
      ]
     },
     "execution_count": 7,
     "metadata": {},
     "output_type": "execute_result"
    }
   ],
   "source": [
    "# Character count\n",
    "data[\"Char\"] = data[\"News\"].apply(lambda x: len(re.sub(r\"\\s+\", \"\", x)))\n",
    "data.head()"
   ]
  },
  {
   "cell_type": "code",
   "execution_count": 8,
   "metadata": {},
   "outputs": [
    {
     "data": {
      "text/html": [
       "<div>\n",
       "<style scoped>\n",
       "    .dataframe tbody tr th:only-of-type {\n",
       "        vertical-align: middle;\n",
       "    }\n",
       "\n",
       "    .dataframe tbody tr th {\n",
       "        vertical-align: top;\n",
       "    }\n",
       "\n",
       "    .dataframe thead th {\n",
       "        text-align: right;\n",
       "    }\n",
       "</style>\n",
       "<table border=\"1\" class=\"dataframe\">\n",
       "  <thead>\n",
       "    <tr style=\"text-align: right;\">\n",
       "      <th></th>\n",
       "      <th>News</th>\n",
       "      <th>Char</th>\n",
       "      <th>Str</th>\n",
       "    </tr>\n",
       "  </thead>\n",
       "  <tbody>\n",
       "    <tr>\n",
       "      <th>0</th>\n",
       "      <td>sürücüsüz otomobil yola çıktı modifiye otomobi...</td>\n",
       "      <td>589</td>\n",
       "      <td>563</td>\n",
       "    </tr>\n",
       "    <tr>\n",
       "      <th>1</th>\n",
       "      <td>akıllı telefon bağımlılığına karşı vekil telef...</td>\n",
       "      <td>800</td>\n",
       "      <td>799</td>\n",
       "    </tr>\n",
       "    <tr>\n",
       "      <th>2</th>\n",
       "      <td>iphone x iphone 8 plus karşı karşıya küçük kas...</td>\n",
       "      <td>521</td>\n",
       "      <td>489</td>\n",
       "    </tr>\n",
       "    <tr>\n",
       "      <th>3</th>\n",
       "      <td>avrupa devleri hibrit elektrikli uçak kolları ...</td>\n",
       "      <td>624</td>\n",
       "      <td>605</td>\n",
       "    </tr>\n",
       "    <tr>\n",
       "      <th>4</th>\n",
       "      <td>11 yaşındaki kız 25 dolar değerindeki bilim öd...</td>\n",
       "      <td>544</td>\n",
       "      <td>536</td>\n",
       "    </tr>\n",
       "  </tbody>\n",
       "</table>\n",
       "</div>"
      ],
      "text/plain": [
       "                                                News  Char  Str\n",
       "0  sürücüsüz otomobil yola çıktı modifiye otomobi...   589  563\n",
       "1  akıllı telefon bağımlılığına karşı vekil telef...   800  799\n",
       "2  iphone x iphone 8 plus karşı karşıya küçük kas...   521  489\n",
       "3  avrupa devleri hibrit elektrikli uçak kolları ...   624  605\n",
       "4  11 yaşındaki kız 25 dolar değerindeki bilim öd...   544  536"
      ]
     },
     "execution_count": 8,
     "metadata": {},
     "output_type": "execute_result"
    }
   ],
   "source": [
    "# String count\n",
    "data[\"Str\"] = data[\"News\"].apply(lambda x: len(re.sub(r\"[^a-zA-ZığüşöçİĞÜŞÖÇ]+\", \"\", x)))\n",
    "data.head()"
   ]
  },
  {
   "cell_type": "code",
   "execution_count": 9,
   "metadata": {},
   "outputs": [
    {
     "data": {
      "text/html": [
       "<div>\n",
       "<style scoped>\n",
       "    .dataframe tbody tr th:only-of-type {\n",
       "        vertical-align: middle;\n",
       "    }\n",
       "\n",
       "    .dataframe tbody tr th {\n",
       "        vertical-align: top;\n",
       "    }\n",
       "\n",
       "    .dataframe thead th {\n",
       "        text-align: right;\n",
       "    }\n",
       "</style>\n",
       "<table border=\"1\" class=\"dataframe\">\n",
       "  <thead>\n",
       "    <tr style=\"text-align: right;\">\n",
       "      <th></th>\n",
       "      <th>News</th>\n",
       "      <th>Char</th>\n",
       "      <th>Str</th>\n",
       "      <th>Int</th>\n",
       "    </tr>\n",
       "  </thead>\n",
       "  <tbody>\n",
       "    <tr>\n",
       "      <th>0</th>\n",
       "      <td>sürücüsüz otomobil yola çıktı modifiye otomobi...</td>\n",
       "      <td>589</td>\n",
       "      <td>563</td>\n",
       "      <td>26</td>\n",
       "    </tr>\n",
       "    <tr>\n",
       "      <th>1</th>\n",
       "      <td>akıllı telefon bağımlılığına karşı vekil telef...</td>\n",
       "      <td>800</td>\n",
       "      <td>799</td>\n",
       "      <td>1</td>\n",
       "    </tr>\n",
       "    <tr>\n",
       "      <th>2</th>\n",
       "      <td>iphone x iphone 8 plus karşı karşıya küçük kas...</td>\n",
       "      <td>521</td>\n",
       "      <td>489</td>\n",
       "      <td>32</td>\n",
       "    </tr>\n",
       "    <tr>\n",
       "      <th>3</th>\n",
       "      <td>avrupa devleri hibrit elektrikli uçak kolları ...</td>\n",
       "      <td>624</td>\n",
       "      <td>605</td>\n",
       "      <td>19</td>\n",
       "    </tr>\n",
       "    <tr>\n",
       "      <th>4</th>\n",
       "      <td>11 yaşındaki kız 25 dolar değerindeki bilim öd...</td>\n",
       "      <td>544</td>\n",
       "      <td>536</td>\n",
       "      <td>8</td>\n",
       "    </tr>\n",
       "  </tbody>\n",
       "</table>\n",
       "</div>"
      ],
      "text/plain": [
       "                                                News  Char  Str  Int\n",
       "0  sürücüsüz otomobil yola çıktı modifiye otomobi...   589  563   26\n",
       "1  akıllı telefon bağımlılığına karşı vekil telef...   800  799    1\n",
       "2  iphone x iphone 8 plus karşı karşıya küçük kas...   521  489   32\n",
       "3  avrupa devleri hibrit elektrikli uçak kolları ...   624  605   19\n",
       "4  11 yaşındaki kız 25 dolar değerindeki bilim öd...   544  536    8"
      ]
     },
     "execution_count": 9,
     "metadata": {},
     "output_type": "execute_result"
    }
   ],
   "source": [
    "# Integer count\n",
    "data[\"Int\"] = data[\"News\"].apply(lambda x: len(re.sub(r\"[^\\d]+\", \"\", x)))\n",
    "data.head()"
   ]
  },
  {
   "cell_type": "code",
   "execution_count": 10,
   "metadata": {},
   "outputs": [
    {
     "data": {
      "text/html": [
       "<div>\n",
       "<style scoped>\n",
       "    .dataframe tbody tr th:only-of-type {\n",
       "        vertical-align: middle;\n",
       "    }\n",
       "\n",
       "    .dataframe tbody tr th {\n",
       "        vertical-align: top;\n",
       "    }\n",
       "\n",
       "    .dataframe thead th {\n",
       "        text-align: right;\n",
       "    }\n",
       "</style>\n",
       "<table border=\"1\" class=\"dataframe\">\n",
       "  <thead>\n",
       "    <tr style=\"text-align: right;\">\n",
       "      <th></th>\n",
       "      <th>News</th>\n",
       "      <th>Char</th>\n",
       "      <th>Str</th>\n",
       "      <th>Int</th>\n",
       "      <th>Word</th>\n",
       "    </tr>\n",
       "  </thead>\n",
       "  <tbody>\n",
       "    <tr>\n",
       "      <th>0</th>\n",
       "      <td>sürücüsüz otomobil yola çıktı modifiye otomobi...</td>\n",
       "      <td>589</td>\n",
       "      <td>563</td>\n",
       "      <td>26</td>\n",
       "      <td>83</td>\n",
       "    </tr>\n",
       "    <tr>\n",
       "      <th>1</th>\n",
       "      <td>akıllı telefon bağımlılığına karşı vekil telef...</td>\n",
       "      <td>800</td>\n",
       "      <td>799</td>\n",
       "      <td>1</td>\n",
       "      <td>96</td>\n",
       "    </tr>\n",
       "    <tr>\n",
       "      <th>2</th>\n",
       "      <td>iphone x iphone 8 plus karşı karşıya küçük kas...</td>\n",
       "      <td>521</td>\n",
       "      <td>489</td>\n",
       "      <td>32</td>\n",
       "      <td>98</td>\n",
       "    </tr>\n",
       "    <tr>\n",
       "      <th>3</th>\n",
       "      <td>avrupa devleri hibrit elektrikli uçak kolları ...</td>\n",
       "      <td>624</td>\n",
       "      <td>605</td>\n",
       "      <td>19</td>\n",
       "      <td>90</td>\n",
       "    </tr>\n",
       "    <tr>\n",
       "      <th>4</th>\n",
       "      <td>11 yaşındaki kız 25 dolar değerindeki bilim öd...</td>\n",
       "      <td>544</td>\n",
       "      <td>536</td>\n",
       "      <td>8</td>\n",
       "      <td>77</td>\n",
       "    </tr>\n",
       "  </tbody>\n",
       "</table>\n",
       "</div>"
      ],
      "text/plain": [
       "                                                News  Char  Str  Int  Word\n",
       "0  sürücüsüz otomobil yola çıktı modifiye otomobi...   589  563   26    83\n",
       "1  akıllı telefon bağımlılığına karşı vekil telef...   800  799    1    96\n",
       "2  iphone x iphone 8 plus karşı karşıya küçük kas...   521  489   32    98\n",
       "3  avrupa devleri hibrit elektrikli uçak kolları ...   624  605   19    90\n",
       "4  11 yaşındaki kız 25 dolar değerindeki bilim öd...   544  536    8    77"
      ]
     },
     "execution_count": 10,
     "metadata": {},
     "output_type": "execute_result"
    }
   ],
   "source": [
    "# Word count\n",
    "data[\"Word\"] = data[\"News\"].apply(lambda x: len(x.split()))\n",
    "data.head()"
   ]
  },
  {
   "cell_type": "code",
   "execution_count": 11,
   "metadata": {},
   "outputs": [
    {
     "data": {
      "text/html": [
       "<div>\n",
       "<style scoped>\n",
       "    .dataframe tbody tr th:only-of-type {\n",
       "        vertical-align: middle;\n",
       "    }\n",
       "\n",
       "    .dataframe tbody tr th {\n",
       "        vertical-align: top;\n",
       "    }\n",
       "\n",
       "    .dataframe thead th {\n",
       "        text-align: right;\n",
       "    }\n",
       "</style>\n",
       "<table border=\"1\" class=\"dataframe\">\n",
       "  <thead>\n",
       "    <tr style=\"text-align: right;\">\n",
       "      <th></th>\n",
       "      <th>News</th>\n",
       "      <th>Char</th>\n",
       "      <th>Str</th>\n",
       "      <th>Int</th>\n",
       "      <th>Word</th>\n",
       "      <th>Avg</th>\n",
       "    </tr>\n",
       "  </thead>\n",
       "  <tbody>\n",
       "    <tr>\n",
       "      <th>0</th>\n",
       "      <td>sürücüsüz otomobil yola çıktı modifiye otomobi...</td>\n",
       "      <td>589</td>\n",
       "      <td>563</td>\n",
       "      <td>26</td>\n",
       "      <td>83</td>\n",
       "      <td>7.096386</td>\n",
       "    </tr>\n",
       "    <tr>\n",
       "      <th>1</th>\n",
       "      <td>akıllı telefon bağımlılığına karşı vekil telef...</td>\n",
       "      <td>800</td>\n",
       "      <td>799</td>\n",
       "      <td>1</td>\n",
       "      <td>96</td>\n",
       "      <td>8.333333</td>\n",
       "    </tr>\n",
       "    <tr>\n",
       "      <th>2</th>\n",
       "      <td>iphone x iphone 8 plus karşı karşıya küçük kas...</td>\n",
       "      <td>521</td>\n",
       "      <td>489</td>\n",
       "      <td>32</td>\n",
       "      <td>98</td>\n",
       "      <td>5.316327</td>\n",
       "    </tr>\n",
       "    <tr>\n",
       "      <th>3</th>\n",
       "      <td>avrupa devleri hibrit elektrikli uçak kolları ...</td>\n",
       "      <td>624</td>\n",
       "      <td>605</td>\n",
       "      <td>19</td>\n",
       "      <td>90</td>\n",
       "      <td>6.933333</td>\n",
       "    </tr>\n",
       "    <tr>\n",
       "      <th>4</th>\n",
       "      <td>11 yaşındaki kız 25 dolar değerindeki bilim öd...</td>\n",
       "      <td>544</td>\n",
       "      <td>536</td>\n",
       "      <td>8</td>\n",
       "      <td>77</td>\n",
       "      <td>7.064935</td>\n",
       "    </tr>\n",
       "  </tbody>\n",
       "</table>\n",
       "</div>"
      ],
      "text/plain": [
       "                                                News  Char  Str  Int  Word  \\\n",
       "0  sürücüsüz otomobil yola çıktı modifiye otomobi...   589  563   26    83   \n",
       "1  akıllı telefon bağımlılığına karşı vekil telef...   800  799    1    96   \n",
       "2  iphone x iphone 8 plus karşı karşıya küçük kas...   521  489   32    98   \n",
       "3  avrupa devleri hibrit elektrikli uçak kolları ...   624  605   19    90   \n",
       "4  11 yaşındaki kız 25 dolar değerindeki bilim öd...   544  536    8    77   \n",
       "\n",
       "        Avg  \n",
       "0  7.096386  \n",
       "1  8.333333  \n",
       "2  5.316327  \n",
       "3  6.933333  \n",
       "4  7.064935  "
      ]
     },
     "execution_count": 11,
     "metadata": {},
     "output_type": "execute_result"
    }
   ],
   "source": [
    "# Average Word Length\n",
    "data[\"Avg\"] = data[\"News\"].apply(lambda x: len(re.sub(r\"\\s+\", \"\", x)) / len(x.split()))\n",
    "data.head()"
   ]
  },
  {
   "cell_type": "markdown",
   "metadata": {},
   "source": [
    "##### Frequent words"
   ]
  },
  {
   "cell_type": "code",
   "execution_count": 12,
   "metadata": {},
   "outputs": [
    {
     "data": {
      "text/plain": [
       "yeni         57\n",
       "iphone       41\n",
       "r            32\n",
       "telefon      30\n",
       "ilk          29\n",
       "2            28\n",
       "satışa       24\n",
       "teknoloji    24\n",
       "apple        23\n",
       "sahip        23\n",
       "dtype: int64"
      ]
     },
     "execution_count": 12,
     "metadata": {},
     "output_type": "execute_result"
    }
   ],
   "source": [
    "freq = pd.Series(\" \".join(data[\"News\"]).split()).value_counts()[:10]\n",
    "freq"
   ]
  },
  {
   "cell_type": "code",
   "execution_count": 13,
   "metadata": {},
   "outputs": [
    {
     "data": {
      "text/plain": [
       "0    sürücüsüz otomobil yola çıktı modifiye otomobi...\n",
       "1    akıllı bağımlılığına karşı vekil avusturyalı t...\n",
       "2    x 8 plus karşı karşıya küçük kasa büyük ekran ...\n",
       "3    avrupa devleri hibrit elektrikli uçak kolları ...\n",
       "4    11 yaşındaki kız 25 dolar değerindeki bilim öd...\n",
       "Name: News, dtype: object"
      ]
     },
     "execution_count": 13,
     "metadata": {},
     "output_type": "execute_result"
    }
   ],
   "source": [
    "# Remove frequent words\n",
    "\n",
    "data[\"News\"] = data[\"News\"].apply(lambda x: \" \".join(x for x in x.split() if x not in list(freq.index)))\n",
    "data[\"News\"].head()"
   ]
  },
  {
   "cell_type": "markdown",
   "metadata": {},
   "source": [
    "##### Rare words"
   ]
  },
  {
   "cell_type": "code",
   "execution_count": 14,
   "metadata": {},
   "outputs": [
    {
     "data": {
      "text/plain": [
       "suçlamaları    1\n",
       "zahmetli       1\n",
       "erken          1\n",
       "mit            1\n",
       "akımlı         1\n",
       "akıncılar      1\n",
       "çözdü          1\n",
       "montana        1\n",
       "uzmanlığa      1\n",
       "tartışmayı     1\n",
       "dtype: int64"
      ]
     },
     "execution_count": 14,
     "metadata": {},
     "output_type": "execute_result"
    }
   ],
   "source": [
    "rare = pd.Series(\" \".join(data[\"News\"]).split()).value_counts()[-10:]\n",
    "rare"
   ]
  },
  {
   "cell_type": "code",
   "execution_count": 15,
   "metadata": {},
   "outputs": [
    {
     "data": {
      "text/plain": [
       "0    sürücüsüz otomobil yola çıktı modifiye otomobi...\n",
       "1    akıllı bağımlılığına karşı vekil avusturyalı t...\n",
       "2    x 8 plus karşı karşıya küçük kasa büyük ekran ...\n",
       "3    avrupa devleri hibrit elektrikli uçak kolları ...\n",
       "4    11 yaşındaki kız 25 dolar değerindeki bilim öd...\n",
       "Name: News, dtype: object"
      ]
     },
     "execution_count": 15,
     "metadata": {},
     "output_type": "execute_result"
    }
   ],
   "source": [
    "# Remove rare words\n",
    "\n",
    "data[\"News\"] = data[\"News\"].apply(lambda x: \" \".join(x for x in x.split() if x not in list(rare.index)))\n",
    "data[\"News\"].head()"
   ]
  },
  {
   "cell_type": "markdown",
   "metadata": {},
   "source": [
    "### Pre-processing"
   ]
  },
  {
   "cell_type": "markdown",
   "metadata": {},
   "source": [
    "##### ASCII character correction"
   ]
  },
  {
   "cell_type": "code",
   "execution_count": 16,
   "metadata": {},
   "outputs": [
    {
     "data": {
      "text/plain": [
       "0    sürücüsüz otomobil yola çıktı modifiye otomobi...\n",
       "1    akıllı bağımlılığına karşı vekil avusturyalı t...\n",
       "2    x 8 plus karşı karşıya küçük kasa büyük ekran ...\n",
       "3    avrupa devleri hibrit elektrikli uçak kolları ...\n",
       "4    11 yasındaki kız 25 dolar değerindeki bilim öd...\n",
       "Name: News, dtype: object"
      ]
     },
     "execution_count": 16,
     "metadata": {},
     "output_type": "execute_result"
    }
   ],
   "source": [
    "from lib.turkish_deasciifier.turkish.deasciifier import Deasciifier\n",
    "    \n",
    "data[\"News\"] = data[\"News\"].apply(lambda x: Deasciifier(x).convert_to_turkish())\n",
    "    \n",
    "data[\"News\"].head()"
   ]
  },
  {
   "cell_type": "markdown",
   "metadata": {},
   "source": [
    "##### Tokenization"
   ]
  },
  {
   "cell_type": "code",
   "execution_count": 17,
   "metadata": {},
   "outputs": [
    {
     "data": {
      "text/plain": [
       "0    [sürücüsüz, otomobil, yola, çıktı, modifiye, o...\n",
       "1    [akıllı, bağımlılığına, karşı, vekil, avustury...\n",
       "2    [x, 8, plus, karşı, karşıya, küçük, kasa, büyü...\n",
       "3    [avrupa, devleri, hibrit, elektrikli, uçak, ko...\n",
       "4    [11, yasındaki, kız, 25, dolar, değerindeki, b...\n",
       "Name: Token, dtype: object"
      ]
     },
     "execution_count": 17,
     "metadata": {},
     "output_type": "execute_result"
    }
   ],
   "source": [
    "from lib.turkish_nltk.trnltk.tokenizer.texttokenizer import TextTokenizer\n",
    "\n",
    "data[\"Token\"] = data[\"News\"].apply(lambda x: list(TextTokenizer().tokenize(x)))\n",
    "    \n",
    "data[\"Token\"].head()"
   ]
  },
  {
   "cell_type": "markdown",
   "metadata": {},
   "source": [
    "##### Stemming"
   ]
  },
  {
   "cell_type": "code",
   "execution_count": 18,
   "metadata": {},
   "outputs": [
    {
     "data": {
      "text/plain": [
       "0    sürücüs otomobil yol çıkt modifi otomobil 12 s...\n",
       "1    akıl bağımlılık karş vekil avusturya tasarımç ...\n",
       "2    x 8 plus karş karşı küçük kas büyük ekran 8 in...\n",
       "3    avrup dev hibrit elektrik uçak kol sıva bbcde ...\n",
       "4    11 yas kız 25 do değer bil ödül sahip geliştir...\n",
       "Name: Stem, dtype: object"
      ]
     },
     "execution_count": 18,
     "metadata": {},
     "output_type": "execute_result"
    }
   ],
   "source": [
    "from TurkishStemmer import TurkishStemmer\n",
    "\n",
    "data[\"Stem\"] = data[\"Token\"].apply(lambda x: \" \".join(TurkishStemmer().stem(x) for x in x))\n",
    "\n",
    "data[\"Stem\"].head()"
   ]
  },
  {
   "cell_type": "markdown",
   "metadata": {},
   "source": [
    "##### Lemmatization"
   ]
  },
  {
   "cell_type": "code",
   "execution_count": 19,
   "metadata": {},
   "outputs": [
    {
     "data": {
      "text/plain": [
       "'\\nfrom lib.turkish_lemmer.trLemmer import MorphAnalyzer\\n\\ndata[\"Lemma\"] = data[\"Token\"].apply(lambda x: \" \".join(MorphAnalyzer().lemmatize(x)[0] for x in x))\\n    \\ndata[\"Lemma\"].head()\\n'"
      ]
     },
     "execution_count": 19,
     "metadata": {},
     "output_type": "execute_result"
    }
   ],
   "source": [
    "'''\n",
    "from lib.turkish_lemmer.trLemmer import MorphAnalyzer\n",
    "\n",
    "data[\"Lemma\"] = data[\"Token\"].apply(lambda x: \" \".join(MorphAnalyzer().lemmatize(x)[0] for x in x))\n",
    "    \n",
    "data[\"Lemma\"].head()\n",
    "'''"
   ]
  },
  {
   "cell_type": "markdown",
   "metadata": {},
   "source": [
    "### Processing"
   ]
  },
  {
   "cell_type": "markdown",
   "metadata": {},
   "source": [
    "##### N-grams"
   ]
  },
  {
   "cell_type": "code",
   "execution_count": 23,
   "metadata": {},
   "outputs": [
    {
     "data": {
      "text/plain": [
       "'\\nfrom textblob import TextBlob\\n\\ndata[\"Ngram\"] = data[\"Stem\"].apply(lambda x: TextBlob(x).ngrams(5))\\n    \\ndata[\"Ngram\"].head()\\n'"
      ]
     },
     "execution_count": 23,
     "metadata": {},
     "output_type": "execute_result"
    }
   ],
   "source": [
    "'''\n",
    "from textblob import TextBlob\n",
    "\n",
    "data[\"Ngram\"] = data[\"Stem\"].apply(lambda x: TextBlob(x).ngrams(5))\n",
    "    \n",
    "data[\"Ngram\"].head()\n",
    "'''"
   ]
  },
  {
   "cell_type": "markdown",
   "metadata": {},
   "source": [
    "##### Term frequency"
   ]
  },
  {
   "cell_type": "code",
   "execution_count": 24,
   "metadata": {},
   "outputs": [
    {
     "data": {
      "text/html": [
       "<div>\n",
       "<style scoped>\n",
       "    .dataframe tbody tr th:only-of-type {\n",
       "        vertical-align: middle;\n",
       "    }\n",
       "\n",
       "    .dataframe tbody tr th {\n",
       "        vertical-align: top;\n",
       "    }\n",
       "\n",
       "    .dataframe thead th {\n",
       "        text-align: right;\n",
       "    }\n",
       "</style>\n",
       "<table border=\"1\" class=\"dataframe\">\n",
       "  <thead>\n",
       "    <tr style=\"text-align: right;\">\n",
       "      <th></th>\n",
       "      <th>Term</th>\n",
       "      <th>tf</th>\n",
       "    </tr>\n",
       "  </thead>\n",
       "  <tbody>\n",
       "    <tr>\n",
       "      <th>0</th>\n",
       "      <td>bağımlılık</td>\n",
       "      <td>3</td>\n",
       "    </tr>\n",
       "    <tr>\n",
       "      <th>1</th>\n",
       "      <td>vekil</td>\n",
       "      <td>3</td>\n",
       "    </tr>\n",
       "    <tr>\n",
       "      <th>2</th>\n",
       "      <td>schillinger</td>\n",
       "      <td>3</td>\n",
       "    </tr>\n",
       "    <tr>\n",
       "      <th>3</th>\n",
       "      <td>sağlıyor</td>\n",
       "      <td>2</td>\n",
       "    </tr>\n",
       "    <tr>\n",
       "      <th>4</th>\n",
       "      <td>telefon</td>\n",
       "      <td>2</td>\n",
       "    </tr>\n",
       "  </tbody>\n",
       "</table>\n",
       "</div>"
      ],
      "text/plain": [
       "          Term  tf\n",
       "0   bağımlılık   3\n",
       "1        vekil   3\n",
       "2  schillinger   3\n",
       "3     sağlıyor   2\n",
       "4      telefon   2"
      ]
     },
     "execution_count": 24,
     "metadata": {},
     "output_type": "execute_result"
    }
   ],
   "source": [
    "terms = (data[\"Stem\"][1:2]).apply(lambda x: pd.value_counts(x.split(\" \"))).sum(axis = 0).reset_index()\n",
    "terms.columns = [\"Term\", \"tf\"]\n",
    "\n",
    "terms.head()"
   ]
  },
  {
   "cell_type": "markdown",
   "metadata": {},
   "source": [
    "##### Inverse document frequency"
   ]
  },
  {
   "cell_type": "code",
   "execution_count": 25,
   "metadata": {},
   "outputs": [
    {
     "data": {
      "text/html": [
       "<div>\n",
       "<style scoped>\n",
       "    .dataframe tbody tr th:only-of-type {\n",
       "        vertical-align: middle;\n",
       "    }\n",
       "\n",
       "    .dataframe tbody tr th {\n",
       "        vertical-align: top;\n",
       "    }\n",
       "\n",
       "    .dataframe thead th {\n",
       "        text-align: right;\n",
       "    }\n",
       "</style>\n",
       "<table border=\"1\" class=\"dataframe\">\n",
       "  <thead>\n",
       "    <tr style=\"text-align: right;\">\n",
       "      <th></th>\n",
       "      <th>Term</th>\n",
       "      <th>tf</th>\n",
       "      <th>idf</th>\n",
       "    </tr>\n",
       "  </thead>\n",
       "  <tbody>\n",
       "    <tr>\n",
       "      <th>0</th>\n",
       "      <td>bağımlılık</td>\n",
       "      <td>3</td>\n",
       "      <td>3.901973</td>\n",
       "    </tr>\n",
       "    <tr>\n",
       "      <th>1</th>\n",
       "      <td>vekil</td>\n",
       "      <td>3</td>\n",
       "      <td>4.595120</td>\n",
       "    </tr>\n",
       "    <tr>\n",
       "      <th>2</th>\n",
       "      <td>schillinger</td>\n",
       "      <td>3</td>\n",
       "      <td>4.595120</td>\n",
       "    </tr>\n",
       "    <tr>\n",
       "      <th>3</th>\n",
       "      <td>sağlıyor</td>\n",
       "      <td>2</td>\n",
       "      <td>4.595120</td>\n",
       "    </tr>\n",
       "    <tr>\n",
       "      <th>4</th>\n",
       "      <td>telefon</td>\n",
       "      <td>2</td>\n",
       "      <td>1.887070</td>\n",
       "    </tr>\n",
       "  </tbody>\n",
       "</table>\n",
       "</div>"
      ],
      "text/plain": [
       "          Term  tf       idf\n",
       "0   bağımlılık   3  3.901973\n",
       "1        vekil   3  4.595120\n",
       "2  schillinger   3  4.595120\n",
       "3     sağlıyor   2  4.595120\n",
       "4      telefon   2  1.887070"
      ]
     },
     "execution_count": 25,
     "metadata": {},
     "output_type": "execute_result"
    }
   ],
   "source": [
    "import numpy as np\n",
    "\n",
    "for i, word in enumerate(terms[\"Term\"]):\n",
    "    terms.loc[i, \"idf\"] = np.log(data.shape[0] / (len(data[data[\"Stem\"].str.contains(word)])))\n",
    "    \n",
    "terms.head()"
   ]
  },
  {
   "cell_type": "markdown",
   "metadata": {},
   "source": [
    "##### Term frequency - Inverse document frequency"
   ]
  },
  {
   "cell_type": "code",
   "execution_count": 28,
   "metadata": {},
   "outputs": [
    {
     "data": {
      "text/html": [
       "<div>\n",
       "<style scoped>\n",
       "    .dataframe tbody tr th:only-of-type {\n",
       "        vertical-align: middle;\n",
       "    }\n",
       "\n",
       "    .dataframe tbody tr th {\n",
       "        vertical-align: top;\n",
       "    }\n",
       "\n",
       "    .dataframe thead th {\n",
       "        text-align: right;\n",
       "    }\n",
       "</style>\n",
       "<table border=\"1\" class=\"dataframe\">\n",
       "  <thead>\n",
       "    <tr style=\"text-align: right;\">\n",
       "      <th></th>\n",
       "      <th>Term</th>\n",
       "      <th>tf</th>\n",
       "      <th>idf</th>\n",
       "      <th>tf_idf</th>\n",
       "    </tr>\n",
       "  </thead>\n",
       "  <tbody>\n",
       "    <tr>\n",
       "      <th>0</th>\n",
       "      <td>bağımlılık</td>\n",
       "      <td>3</td>\n",
       "      <td>3.901973</td>\n",
       "      <td>11.705918</td>\n",
       "    </tr>\n",
       "    <tr>\n",
       "      <th>1</th>\n",
       "      <td>vekil</td>\n",
       "      <td>3</td>\n",
       "      <td>4.595120</td>\n",
       "      <td>13.785360</td>\n",
       "    </tr>\n",
       "    <tr>\n",
       "      <th>2</th>\n",
       "      <td>schillinger</td>\n",
       "      <td>3</td>\n",
       "      <td>4.595120</td>\n",
       "      <td>13.785360</td>\n",
       "    </tr>\n",
       "    <tr>\n",
       "      <th>3</th>\n",
       "      <td>sağlıyor</td>\n",
       "      <td>2</td>\n",
       "      <td>4.595120</td>\n",
       "      <td>9.190240</td>\n",
       "    </tr>\n",
       "    <tr>\n",
       "      <th>4</th>\n",
       "      <td>telefon</td>\n",
       "      <td>2</td>\n",
       "      <td>1.887070</td>\n",
       "      <td>3.774139</td>\n",
       "    </tr>\n",
       "  </tbody>\n",
       "</table>\n",
       "</div>"
      ],
      "text/plain": [
       "          Term  tf       idf     tf_idf\n",
       "0   bağımlılık   3  3.901973  11.705918\n",
       "1        vekil   3  4.595120  13.785360\n",
       "2  schillinger   3  4.595120  13.785360\n",
       "3     sağlıyor   2  4.595120   9.190240\n",
       "4      telefon   2  1.887070   3.774139"
      ]
     },
     "execution_count": 28,
     "metadata": {},
     "output_type": "execute_result"
    }
   ],
   "source": [
    "terms[\"tf_idf\"] = terms[\"tf\"] * terms[\"idf\"]\n",
    "\n",
    "terms.head()"
   ]
  },
  {
   "cell_type": "code",
   "execution_count": 35,
   "metadata": {},
   "outputs": [
    {
     "data": {
      "text/plain": [
       "<99x1000 sparse matrix of type '<class 'numpy.float64'>'\n",
       "\twith 3322 stored elements in Compressed Sparse Row format>"
      ]
     },
     "execution_count": 35,
     "metadata": {},
     "output_type": "execute_result"
    }
   ],
   "source": [
    "from sklearn.feature_extraction.text import TfidfVectorizer\n",
    "\n",
    "tfidf = TfidfVectorizer(max_features=1000, lowercase=True, analyzer=\"word\", stop_words=stopwords, ngram_range=(1,1))\n",
    "train_tfidf = tfidf.fit_transform(data[\"Stem\"])\n",
    "\n",
    "train_tfidf"
   ]
  },
  {
   "cell_type": "markdown",
   "metadata": {},
   "source": [
    "##### Bag of words"
   ]
  },
  {
   "cell_type": "code",
   "execution_count": 36,
   "metadata": {},
   "outputs": [
    {
     "data": {
      "text/plain": [
       "<99x1000 sparse matrix of type '<class 'numpy.int64'>'\n",
       "\twith 3385 stored elements in Compressed Sparse Row format>"
      ]
     },
     "execution_count": 36,
     "metadata": {},
     "output_type": "execute_result"
    }
   ],
   "source": [
    "from sklearn.feature_extraction.text import CountVectorizer\n",
    "\n",
    "bag = CountVectorizer(max_features=1000, lowercase=True, analyzer=\"word\", ngram_range=(1,1))\n",
    "train_bag = bag.fit_transform(data[\"Stem\"])\n",
    "\n",
    "train_bag"
   ]
  },
  {
   "cell_type": "markdown",
   "metadata": {},
   "source": [
    "##### Sentiment analysis"
   ]
  },
  {
   "cell_type": "code",
   "execution_count": 37,
   "metadata": {},
   "outputs": [
    {
     "data": {
      "text/html": [
       "<div>\n",
       "<style scoped>\n",
       "    .dataframe tbody tr th:only-of-type {\n",
       "        vertical-align: middle;\n",
       "    }\n",
       "\n",
       "    .dataframe tbody tr th {\n",
       "        vertical-align: top;\n",
       "    }\n",
       "\n",
       "    .dataframe thead th {\n",
       "        text-align: right;\n",
       "    }\n",
       "</style>\n",
       "<table border=\"1\" class=\"dataframe\">\n",
       "  <thead>\n",
       "    <tr style=\"text-align: right;\">\n",
       "      <th></th>\n",
       "      <th>Stem</th>\n",
       "      <th>Sentiment</th>\n",
       "    </tr>\n",
       "  </thead>\n",
       "  <tbody>\n",
       "    <tr>\n",
       "      <th>0</th>\n",
       "      <td>sürücüs otomobil yol çıkt modifi otomobil 12 s...</td>\n",
       "      <td>0.092857</td>\n",
       "    </tr>\n",
       "    <tr>\n",
       "      <th>1</th>\n",
       "      <td>akıl bağımlılık karş vekil avusturya tasarımç ...</td>\n",
       "      <td>-0.083333</td>\n",
       "    </tr>\n",
       "    <tr>\n",
       "      <th>2</th>\n",
       "      <td>x 8 plus karş karşı küçük kas büyük ekran 8 in...</td>\n",
       "      <td>0.005952</td>\n",
       "    </tr>\n",
       "    <tr>\n",
       "      <th>3</th>\n",
       "      <td>avrup dev hibrit elektrik uçak kol sıva bbcde ...</td>\n",
       "      <td>-0.016667</td>\n",
       "    </tr>\n",
       "    <tr>\n",
       "      <th>4</th>\n",
       "      <td>11 yas kız 25 do değer bil ödül sahip geliştir...</td>\n",
       "      <td>0.058333</td>\n",
       "    </tr>\n",
       "  </tbody>\n",
       "</table>\n",
       "</div>"
      ],
      "text/plain": [
       "                                                Stem  Sentiment\n",
       "0  sürücüs otomobil yol çıkt modifi otomobil 12 s...   0.092857\n",
       "1  akıl bağımlılık karş vekil avusturya tasarımç ...  -0.083333\n",
       "2  x 8 plus karş karşı küçük kas büyük ekran 8 in...   0.005952\n",
       "3  avrup dev hibrit elektrik uçak kol sıva bbcde ...  -0.016667\n",
       "4  11 yas kız 25 do değer bil ödül sahip geliştir...   0.058333"
      ]
     },
     "execution_count": 37,
     "metadata": {},
     "output_type": "execute_result"
    }
   ],
   "source": [
    "data[\"Sentiment\"] = data[\"Stem\"].apply(lambda x: TextBlob(x).translate(from_lang=\"tr\", to=\"en\").sentiment.polarity)\n",
    "\n",
    "data[[\"Stem\", \"Sentiment\"]].head()"
   ]
  },
  {
   "cell_type": "markdown",
   "metadata": {},
   "source": [
    "##### Word embeddings"
   ]
  }
 ],
 "metadata": {
  "kernelspec": {
   "display_name": "Python 3",
   "language": "python",
   "name": "python3"
  },
  "language_info": {
   "codemirror_mode": {
    "name": "ipython",
    "version": 3
   },
   "file_extension": ".py",
   "mimetype": "text/x-python",
   "name": "python",
   "nbconvert_exporter": "python",
   "pygments_lexer": "ipython3",
   "version": "3.7.4"
  }
 },
 "nbformat": 4,
 "nbformat_minor": 4
}
